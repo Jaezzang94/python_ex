{
 "cells": [
  {
   "cell_type": "markdown",
   "metadata": {},
   "source": [
    "### for문"
   ]
  },
  {
   "cell_type": "markdown",
   "metadata": {},
   "source": [
    "### range 함수 "
   ]
  },
  {
   "cell_type": "code",
   "execution_count": 2,
   "metadata": {},
   "outputs": [
    {
     "data": {
      "text/plain": [
       "[0, 1, 2, 3, 4]"
      ]
     },
     "execution_count": 2,
     "metadata": {},
     "output_type": "execute_result"
    }
   ],
   "source": [
    "list(range(5))"
   ]
  },
  {
   "cell_type": "markdown",
   "metadata": {},
   "source": [
    "list(range(a)) 0부터 a-1까지  \n",
    "list(range(a,b)) a부터 b-1까지  \n",
    "list(range(a,b,c)) a부터 b-1까지 c간격의 수를 반환"
   ]
  },
  {
   "cell_type": "markdown",
   "metadata": {},
   "source": [
    "### for문"
   ]
  },
  {
   "cell_type": "markdown",
   "metadata": {},
   "source": [
    "for문은 while과 같은 반복문이지만 시작값과 범위 "
   ]
  },
  {
   "cell_type": "code",
   "execution_count": 6,
   "metadata": {},
   "outputs": [
    {
     "name": "stdout",
     "output_type": "stream",
     "text": [
      "0\n",
      "1\n",
      "2\n",
      "3\n",
      "4\n"
     ]
    }
   ],
   "source": [
    "for x in range(0,5,1):  #괄호 안의 (0,5,1)은 0부터 시작해 5까지 1씩 더해진다는 뜻이다\n",
    "    print(x)"
   ]
  },
  {
   "cell_type": "code",
   "execution_count": 7,
   "metadata": {
    "collapsed": true
   },
   "outputs": [],
   "source": [
    "names=[\"무리뉴\",\"콘테\",\"벵거\",\"펩\",\"포체티노\"]"
   ]
  },
  {
   "cell_type": "code",
   "execution_count": 8,
   "metadata": {},
   "outputs": [
    {
     "name": "stdout",
     "output_type": "stream",
     "text": [
      "무리뉴\n",
      "콘테\n",
      "벵거\n",
      "펩\n",
      "포체티노\n"
     ]
    }
   ],
   "source": [
    "for 이름 in names :\n",
    "    print(이름)"
   ]
  },
  {
   "cell_type": "code",
   "execution_count": 9,
   "metadata": {},
   "outputs": [
    {
     "name": "stdout",
     "output_type": "stream",
     "text": [
      "금\n",
      "요\n",
      "일\n",
      " \n",
      "입\n",
      "니\n",
      "다\n",
      ".\n",
      " \n",
      "치\n",
      "맥\n"
     ]
    }
   ],
   "source": [
    "for 문자 in \"금요일 입니다. 치맥\":\n",
    "    print(문자)"
   ]
  },
  {
   "cell_type": "code",
   "execution_count": 10,
   "metadata": {
    "collapsed": true
   },
   "outputs": [],
   "source": [
    "score = {4:90, 2:80, 1:95, 5:88, 3:92}"
   ]
  },
  {
   "cell_type": "code",
   "execution_count": 11,
   "metadata": {},
   "outputs": [
    {
     "name": "stdout",
     "output_type": "stream",
     "text": [
      "4\n",
      "2\n",
      "1\n",
      "5\n",
      "3\n"
     ]
    }
   ],
   "source": [
    "for x in score :\n",
    "    print(x)"
   ]
  },
  {
   "cell_type": "code",
   "execution_count": 12,
   "metadata": {},
   "outputs": [
    {
     "name": "stdout",
     "output_type": "stream",
     "text": [
      "4\n",
      "2\n",
      "1\n",
      "5\n",
      "3\n"
     ]
    }
   ],
   "source": [
    "for x in score.keys() :\n",
    "    print(x)"
   ]
  },
  {
   "cell_type": "code",
   "execution_count": 13,
   "metadata": {},
   "outputs": [
    {
     "name": "stdout",
     "output_type": "stream",
     "text": [
      "90\n",
      "80\n",
      "95\n",
      "88\n",
      "92\n"
     ]
    }
   ],
   "source": [
    "for x in score.values() :\n",
    "    print(x)"
   ]
  },
  {
   "cell_type": "code",
   "execution_count": 17,
   "metadata": {},
   "outputs": [
    {
     "name": "stdout",
     "output_type": "stream",
     "text": [
      "key는 : 4   value는 : 90\n",
      "key는 : 2   value는 : 80\n",
      "key는 : 1   value는 : 95\n",
      "key는 : 5   value는 : 88\n",
      "key는 : 3   value는 : 92\n"
     ]
    }
   ],
   "source": [
    "for k, v in score.items() :\n",
    "    print(\"key는 :\",k, end=\"   \")\n",
    "    print(\"value는 :\", v)"
   ]
  },
  {
   "cell_type": "code",
   "execution_count": 21,
   "metadata": {},
   "outputs": [],
   "source": [
    "a=[x**2 for x in range(10)]"
   ]
  },
  {
   "cell_type": "code",
   "execution_count": 22,
   "metadata": {
    "scrolled": true
   },
   "outputs": [
    {
     "data": {
      "text/plain": [
       "[0, 1, 4, 9, 16, 25, 36, 49, 64, 81]"
      ]
     },
     "execution_count": 22,
     "metadata": {},
     "output_type": "execute_result"
    }
   ],
   "source": [
    "a"
   ]
  },
  {
   "cell_type": "markdown",
   "metadata": {},
   "source": [
    "data type "
   ]
  },
  {
   "cell_type": "code",
   "execution_count": 25,
   "metadata": {},
   "outputs": [
    {
     "name": "stdout",
     "output_type": "stream",
     "text": [
      "0 1 2 3 4 5 6 7 8 9 \n",
      "0 5 10 15 20 25 30 35 40 45 50 \n",
      "10 9 8 7 6 5 4 3 2 1 "
     ]
    }
   ],
   "source": [
    "for x in range(0,10):\n",
    "    print(x,end=\" \")\n",
    "print()\n",
    "for y in range(0,51,5):\n",
    "    print(y,end=\" \")\n",
    "print()\n",
    "for z in range(10,0,-1):\n",
    "    print(z,end=\" \")"
   ]
  },
  {
   "cell_type": "code",
   "execution_count": 44,
   "metadata": {},
   "outputs": [
    {
     "name": "stdout",
     "output_type": "stream",
     "text": [
      "성적을 입력하세요 : 90\n",
      "성적을 입력하세요 : 88\n",
      "성적을 입력하세요 : 75\n",
      "성적을 입력하세요 : 93\n",
      "성적을 입력하세요 : 80\n",
      "입력한 성적들 :  [90, 88, 75, 93, 80]\n",
      "\n",
      "최고 성적 93\n",
      "최저 성적 75\n",
      "평균 : 85.20\n"
     ]
    }
   ],
   "source": [
    "max=0\n",
    "min=100\n",
    "count=0\n",
    "sum=0\n",
    "z=[]\n",
    "for k in range(0,5):\n",
    "    x=int(input(\"성적을 입력하세요 : \"))\n",
    "    count+=1\n",
    "    sum+=x\n",
    "    if max<x:\n",
    "        max=x\n",
    "    if min>x:\n",
    "        min=x\n",
    "    z.append(x)\n",
    "print(\"입력한 성적들 : \",z)\n",
    "avg=sum/count\n",
    "print()\n",
    "print(\"최고 성적 {}\".format(max))\n",
    "print(\"최저 성적 {}\".format(min))\n",
    "print(\"평균 : {0:.2f}\".format(avg))"
   ]
  },
  {
   "cell_type": "code",
   "execution_count": 49,
   "metadata": {},
   "outputs": [
    {
     "ename": "SyntaxError",
     "evalue": "invalid syntax (<ipython-input-49-3e6f419b595a>, line 3)",
     "output_type": "error",
     "traceback": [
      "\u001b[1;36m  File \u001b[1;32m\"<ipython-input-49-3e6f419b595a>\"\u001b[1;36m, line \u001b[1;32m3\u001b[0m\n\u001b[1;33m    print(key, '번 {}:'.format sum(value)/len(value))\u001b[0m\n\u001b[1;37m                                ^\u001b[0m\n\u001b[1;31mSyntaxError\u001b[0m\u001b[1;31m:\u001b[0m invalid syntax\n"
     ]
    }
   ],
   "source": [
    "score={1:[80,90,86], 2:[78,88,85],3:[85,85,92],4:[70,69,65],5:[90,95,100]}\n",
    "for key,value in score.items():\n",
    "    print(key, '번 {}:'.format sum(value)/len(value))"
   ]
  },
  {
   "cell_type": "code",
   "execution_count": null,
   "metadata": {
    "collapsed": true
   },
   "outputs": [],
   "source": []
  }
 ],
 "metadata": {
  "kernelspec": {
   "display_name": "Python 3",
   "language": "python",
   "name": "python3"
  },
  "language_info": {
   "codemirror_mode": {
    "name": "ipython",
    "version": 3
   },
   "file_extension": ".py",
   "mimetype": "text/x-python",
   "name": "python",
   "nbconvert_exporter": "python",
   "pygments_lexer": "ipython3",
   "version": "3.6.3"
  }
 },
 "nbformat": 4,
 "nbformat_minor": 2
}
