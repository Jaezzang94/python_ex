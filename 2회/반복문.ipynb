{
 "cells": [
  {
   "cell_type": "markdown",
   "metadata": {},
   "source": [
    "### 반복문  \n",
    "#### 1. while문  \n",
    "#### 2. for문  \n",
    "  \n",
    "  \n",
    "#### 2. while문"
   ]
  },
  {
   "cell_type": "markdown",
   "metadata": {},
   "source": [
    "while문을 사용해 1부터 5까지 출력하기"
   ]
  },
  {
   "cell_type": "code",
   "execution_count": 4,
   "metadata": {},
   "outputs": [
    {
     "name": "stdout",
     "output_type": "stream",
     "text": [
      "1\n",
      "2\n",
      "3\n",
      "4\n",
      "5\n"
     ]
    }
   ],
   "source": [
    "a = 1             #a라는 변수에 1을 넣는다.\n",
    "while a <= 5 :    #while a <=5는 a가 5이하일 때 까지 무한반복 한다는 말이다.\n",
    "    print(a)      #변수 a를 출력한다.\n",
    "    a += 1        #매 번 a에 1을 더해준다."
   ]
  },
  {
   "cell_type": "code",
   "execution_count": 11,
   "metadata": {},
   "outputs": [
    {
     "name": "stdout",
     "output_type": "stream",
     "text": [
      "3950582671\n"
     ]
    }
   ],
   "source": [
    "x=10\n",
    "sum_1=0\n",
    "while x<=88888:\n",
    "    sum_1+=x\n",
    "    x+=1\n",
    "print(sum_1)"
   ]
  },
  {
   "cell_type": "code",
   "execution_count": 13,
   "metadata": {},
   "outputs": [
    {
     "data": {
      "text/plain": [
       "3950582671"
      ]
     },
     "execution_count": 13,
     "metadata": {},
     "output_type": "execute_result"
    }
   ],
   "source": [
    "sum(range(10,88889))"
   ]
  },
  {
   "cell_type": "code",
   "execution_count": 14,
   "metadata": {},
   "outputs": [
    {
     "name": "stdout",
     "output_type": "stream",
     "text": [
      "번호를 입력하세요. (종료시 1번 입력)5\n",
      "프로그램이 실행중입니다\n",
      "번호를 입력하세요. (종료시 1번 입력)5\n",
      "프로그램이 실행중입니다\n",
      "번호를 입력하세요. (종료시 1번 입력)1\n",
      "프로그램이 실행중입니다\n",
      "1번 입력하셨습니다. 프로그램 종료합니다.\n"
     ]
    }
   ],
   "source": [
    "while True :\n",
    "    num=int(input(\"번호를 입력하세요. (종료시 1번 입력)\"))\n",
    "    print(\"프로그램이 실행중입니다\")\n",
    "    \n",
    "    if(num==1):\n",
    "        print(\"1번 입력하셨습니다. 프로그램 종료합니다.\")\n",
    "        break"
   ]
  },
  {
   "cell_type": "code",
   "execution_count": 16,
   "metadata": {},
   "outputs": [
    {
     "name": "stdout",
     "output_type": "stream",
     "text": [
      "아이디 입력 : 이재창\n",
      "비밀번호 : 1234\n",
      "로그인 되었습니다.\n",
      "아이디 입력 : 종료\n",
      "비밀번호 : 11234\n"
     ]
    }
   ],
   "source": [
    "while True :\n",
    "    id_id=input(\"아이디 입력 : \")\n",
    "    password = input(\"비밀번호 : \")\n",
    "    \n",
    "    if id_id==\"이재창\" and password == '1234' :\n",
    "        print(\"로그인 되었습니다.\")\n",
    "        continue\n",
    "    elif (id_id=='종료'):\n",
    "        break\n",
    "    else :\n",
    "        print(\"틀렸습니다\")"
   ]
  },
  {
   "cell_type": "code",
   "execution_count": 41,
   "metadata": {},
   "outputs": [
    {
     "name": "stdout",
     "output_type": "stream",
     "text": [
      " 2  4  6  8 10 12 14 16 18 20 \n",
      " 3  6  9 12 15 18 21 24 27 30 \n",
      " 4  8 12 16 20 24 28 32 36 40 \n",
      " 5 10 15 20 25 30 35 40 45 50 \n",
      " 6 12 18 24 30 36 42 48 54 60 \n",
      " 7 14 21 28 35 42 49 56 63 70 \n",
      " 8 16 24 32 40 48 56 64 72 80 \n",
      " 9 18 27 36 45 54 63 72 81 90 \n"
     ]
    }
   ],
   "source": [
    "a=2\n",
    "b=1\n",
    "for a in range (2,10,1):\n",
    "    for b in range (1,11,1):\n",
    "        print(\"{0:2d}\".format(a*b),end=' ')\n",
    "    print() \n",
    "    "
   ]
  },
  {
   "cell_type": "code",
   "execution_count": 45,
   "metadata": {},
   "outputs": [
    {
     "name": "stdout",
     "output_type": "stream",
     "text": [
      "근무 시간을 입력하세요 : 15\n",
      "시간당 수당을 입력하세요 : 50000\n",
      "총 급여는  795000  원입니다.\n"
     ]
    }
   ],
   "source": [
    "time=int(input(\"근무 시간을 입력하세요 : \"))\n",
    "pay=int(input(\"시간당 수당을 입력하세요 : \"))\n",
    "total_pay=time*pay\n",
    "if time<=12:\n",
    "    total_pay\n",
    "else :\n",
    "    total_pay=total_pay+(time-12)*(pay*0.3)\n",
    "print(\"총 급여는 \",int(total_pay), \" 원입니다.\")"
   ]
  },
  {
   "cell_type": "code",
   "execution_count": 55,
   "metadata": {},
   "outputs": [
    {
     "name": "stdout",
     "output_type": "stream",
     "text": [
      "정수를 입력하시오 : 20\n",
      "1\n",
      "2\n",
      "4\n",
      "5\n",
      "10\n",
      "20\n",
      "\n",
      "약수의 개수 : 6\n"
     ]
    }
   ],
   "source": [
    "x=int(input(\"정수를 입력하시오 : \"))\n",
    "count=0\n",
    "for a in range (1,x+1,1):\n",
    "        if x%a==0:\n",
    "            print(a)\n",
    "            a+=1\n",
    "            count+=1\n",
    "print()\n",
    "print(\"약수의 개수 : {}\".format(count))"
   ]
  },
  {
   "cell_type": "code",
   "execution_count": 52,
   "metadata": {},
   "outputs": [
    {
     "name": "stdout",
     "output_type": "stream",
     "text": [
      "정수를 입력하시오 : 4\n",
      "정수를 입력하시오 : 20\n",
      "정수를 입력하시오 : 15\n",
      "정수를 입력하시오 : 2\n",
      "정수를 입력하시오 : 8\n",
      "가장 큰 값 20\n"
     ]
    }
   ],
   "source": [
    "max=0\n",
    "for x in range(1,6,1):\n",
    "    a=int(input(\"정수를 입력하시오 : \"))\n",
    "    if max<a:\n",
    "        max=a\n",
    "print(\"가장 큰 값 {}\".format(max))"
   ]
  },
  {
   "cell_type": "code",
   "execution_count": null,
   "metadata": {
    "collapsed": true
   },
   "outputs": [],
   "source": []
  }
 ],
 "metadata": {
  "kernelspec": {
   "display_name": "Python 3",
   "language": "python",
   "name": "python3"
  },
  "language_info": {
   "codemirror_mode": {
    "name": "ipython",
    "version": 3
   },
   "file_extension": ".py",
   "mimetype": "text/x-python",
   "name": "python",
   "nbconvert_exporter": "python",
   "pygments_lexer": "ipython3",
   "version": "3.6.3"
  }
 },
 "nbformat": 4,
 "nbformat_minor": 2
}
