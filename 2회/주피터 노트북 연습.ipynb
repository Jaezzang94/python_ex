{
 "cells": [
  {
   "cell_type": "markdown",
   "metadata": {},
   "source": [
    "마크다운 사용법\n",
    "======"
   ]
  },
  {
   "cell_type": "markdown",
   "metadata": {},
   "source": [
    "### ※ 글자 크기 설정 방법"
   ]
  },
  {
   "cell_type": "markdown",
   "metadata": {},
   "source": [
    "큰 제목은 아래 === 사용\n",
    "==="
   ]
  },
  {
   "cell_type": "markdown",
   "metadata": {},
   "source": [
    "큰 제목\n",
    "======"
   ]
  },
  {
   "cell_type": "markdown",
   "metadata": {},
   "source": [
    "작은 제목은 아래 --- 사용\n",
    "---"
   ]
  },
  {
   "cell_type": "markdown",
   "metadata": {},
   "source": [
    "작은 제목\n",
    "--------"
   ]
  },
  {
   "cell_type": "markdown",
   "metadata": {},
   "source": [
    "글씨 크기는 #을 이용해서 1~6까지 지원합니다."
   ]
  },
  {
   "cell_type": "markdown",
   "metadata": {},
   "source": [
    "글 맨 앞에 #를 원하는 개수 만큼 적어줍니다. (# 후 내용을 적습니다.)"
   ]
  },
  {
   "cell_type": "markdown",
   "metadata": {},
   "source": [
    "# 샵 한 개(#)를 쓴 경우 "
   ]
  },
  {
   "cell_type": "markdown",
   "metadata": {},
   "source": [
    "## 샵 두 개(##)를 쓴 경우 "
   ]
  },
  {
   "cell_type": "markdown",
   "metadata": {},
   "source": [
    "#### 샵 세 개(###)를 쓴 경우 "
   ]
  },
  {
   "cell_type": "markdown",
   "metadata": {},
   "source": [
    "#### 샵 네 개(####)를 쓴 경우 "
   ]
  },
  {
   "cell_type": "markdown",
   "metadata": {},
   "source": [
    "##### 샵 다섯 개(#####)를 쓴 경우 "
   ]
  },
  {
   "cell_type": "markdown",
   "metadata": {},
   "source": [
    "###### 샵 여섯 개(######)를 쓴 경우 "
   ]
  },
  {
   "cell_type": "markdown",
   "metadata": {},
   "source": [
    "####### 샵 일곱 개(#######)를 쓴 경우  \n",
    "네 적용되지 않습니다."
   ]
  },
  {
   "cell_type": "markdown",
   "metadata": {},
   "source": [
    "### ※ 마크다운에서는 엔터하고 밑에 글을 써도 붙어서 나옵니다."
   ]
  },
  {
   "cell_type": "markdown",
   "metadata": {},
   "source": [
    "안녕하세요\n",
    "주피터 노트북\n",
    "공부중입니다."
   ]
  },
  {
   "cell_type": "markdown",
   "metadata": {},
   "source": [
    "안녕하세요\n",
    "주피터 노트북\n",
    "공부중입니다."
   ]
  },
  {
   "cell_type": "markdown",
   "metadata": {},
   "source": [
    "### ※ 따라서 글을 쓴후 뒤에 스페이스바 두번 눌러줍니다."
   ]
  },
  {
   "cell_type": "markdown",
   "metadata": {},
   "source": [
    "안녕하세요  \n",
    "주피터 노트북  \n",
    "공부중입니다.  "
   ]
  },
  {
   "cell_type": "markdown",
   "metadata": {},
   "source": [
    "### ※ 어떤 공식이나 강조 하고 싶은 것이 있다면 >를 사용합니다."
   ]
  },
  {
   "cell_type": "markdown",
   "metadata": {},
   "source": [
    "아인슈타인은 말했다\n",
    "> F=ma"
   ]
  },
  {
   "cell_type": "markdown",
   "metadata": {},
   "source": [
    "아인슈타인은 말했다\n",
    "> F=ma"
   ]
  },
  {
   "cell_type": "markdown",
   "metadata": {},
   "source": [
    "###  ※ 내용에 대해 굵기를 굵게 강조하고 싶다면 시작과 끝에 **를 사용"
   ]
  },
  {
   "cell_type": "markdown",
   "metadata": {},
   "source": [
    "나는 **축구**를 좋아한다.  \n",
    "나는 __축구__를 좋아한다.  \n",
    "나는 *축구*를 좋아한다.    \n",
    "나는 ~~축구~~를 좋아한다.  "
   ]
  },
  {
   "cell_type": "markdown",
   "metadata": {},
   "source": [
    "나는 **축구**를 좋아한다.  \n",
    "나는 __축구__를 좋아한다.  \n",
    "나는 *축구*를 좋아한다.    \n",
    "나는 ~~축구~~를 좋아한다.  "
   ]
  },
  {
   "cell_type": "markdown",
   "metadata": {},
   "source": [
    "### ※ 들여쓰기는 같은 개수의 들여쓰기로  사용"
   ]
  },
  {
   "cell_type": "markdown",
   "metadata": {},
   "source": [
    "* a.들여쓰기를 합시다.  \n",
    "    * a-1. 들여쓰기 합니다 a-1번에 대한 정보는~ \n",
    "    * a-2. a-2번에 대한 정보는~"
   ]
  },
  {
   "cell_type": "markdown",
   "metadata": {},
   "source": [
    "* a. 문제\n",
    "    * a-1. a-1번에 대한 정보는~  \n",
    "    * a-2. a-2번에 대한 정보는~"
   ]
  },
  {
   "cell_type": "markdown",
   "metadata": {},
   "source": [
    "* 빨강\n",
    "    * 녹색\n",
    "        * 파랑\n",
    "\n",
    "+ 빨강\n",
    "  + 녹색\n",
    "    + 파랑\n",
    "\n",
    "- 빨강\n",
    "- 녹색\n",
    "- 파랑"
   ]
  },
  {
   "cell_type": "markdown",
   "metadata": {},
   "source": [
    "* 빨강\n",
    "    * 녹색\n",
    "        * 파랑\n",
    "\n",
    "+ 빨강\n",
    "  + 녹색\n",
    "    + 파랑\n",
    "\n",
    "- 빨강\n",
    "- 녹색\n",
    "- 파랑"
   ]
  },
  {
   "cell_type": "markdown",
   "metadata": {},
   "source": [
    "같은 개수의 들여쓰기를 하지 않을 때 까지 변환이 계속됩니다."
   ]
  },
  {
   "cell_type": "markdown",
   "metadata": {},
   "source": [
    "### ※ 링크하는 방법"
   ]
  },
  {
   "cell_type": "markdown",
   "metadata": {},
   "source": [
    "[네이버](wwww.naver.com)  \n",
    "[]안에 이름을 설정하고 ()안에 주소의 위치를 붙여줍니다."
   ]
  },
  {
   "cell_type": "markdown",
   "metadata": {},
   "source": [
    "[네이버](wwww.naver.com)"
   ]
  },
  {
   "cell_type": "markdown",
   "metadata": {},
   "source": [
    "### ※ 이미지 넣는 방법"
   ]
  },
  {
   "cell_type": "markdown",
   "metadata": {},
   "source": [
    "![맨유](../2회/common.jpg)"
   ]
  },
  {
   "cell_type": "markdown",
   "metadata": {},
   "source": [
    "이미지를 지정한 폴더에 넣고 탭 누른 후 자동완성한다.  \n",
    "여기서 \\는 /로 고쳐준다."
   ]
  },
  {
   "cell_type": "markdown",
   "metadata": {},
   "source": [
    "![맨유](../2회/common.jpg)"
   ]
  },
  {
   "cell_type": "markdown",
   "metadata": {},
   "source": [
    "### ※ 정리하며"
   ]
  },
  {
   "cell_type": "markdown",
   "metadata": {},
   "source": [
    "마크다운은 기본문법만 알고 있다면 일반 텍스트편집기에서도 손쉽게 작성이 가능한 마크업언어다. 현재 다양한 도구와 플랫폼에서 지원하고 있으며 더욱 손쉽게 스타일적용된 문서를 작성할 수 있기 때문에 널리 사용되고 있다.  \n",
    " 또한 Dropbox 프로를 구매해서 집-랩탑-스마트폰이 각각 연동을 시켜서 사용이 가능하다. 드랍박스에 저장된 마크다운 문서는 Dropbox 웹서비스 상에서 제공하기 때문에 웹상에서 바로 열람할 수도 있어 링크를 걸어서 다른 사람과 공유하는 형식으로 사용하고 있다."
   ]
  },
  {
   "cell_type": "code",
   "execution_count": null,
   "metadata": {
    "collapsed": true
   },
   "outputs": [],
   "source": []
  }
 ],
 "metadata": {
  "kernelspec": {
   "display_name": "Python 3",
   "language": "python",
   "name": "python3"
  },
  "language_info": {
   "codemirror_mode": {
    "name": "ipython",
    "version": 3
   },
   "file_extension": ".py",
   "mimetype": "text/x-python",
   "name": "python",
   "nbconvert_exporter": "python",
   "pygments_lexer": "ipython3",
   "version": "3.6.3"
  }
 },
 "nbformat": 4,
 "nbformat_minor": 2
}
