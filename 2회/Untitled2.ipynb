{
 "cells": [
  {
   "cell_type": "code",
   "execution_count": 4,
   "metadata": {},
   "outputs": [
    {
     "name": "stdout",
     "output_type": "stream",
     "text": [
      "다섯 자리 숫자를 입력하세요 : 58294\n",
      "\n",
      "4 ,9 ,2 ,8 ,5 ,"
     ]
    }
   ],
   "source": [
    "num=int(input(\"다섯 자리 숫자를 입력하세요 : \"))\n",
    "print()\n",
    "\n",
    "while True:   \n",
    "    if(num>1):\n",
    "        num1=num%10\n",
    "        num=num/10\n",
    "        print(int(num1),end=' ,')\n",
    "    else : \n",
    "        break"
   ]
  },
  {
   "cell_type": "code",
   "execution_count": 2,
   "metadata": {
    "collapsed": true
   },
   "outputs": [],
   "source": [
    "print?"
   ]
  },
  {
   "cell_type": "code",
   "execution_count": null,
   "metadata": {},
   "outputs": [],
   "source": [
    "num=int(input(\"다섯 자리 숫자를 입력하세요 : \"))\n",
    "print()\n",
    "k=0\n",
    "while True :\n",
    "    temp=num%10\n",
    "    num=num/10\n",
    "    if(num>1) :\n",
    "        k=k*10+temp\n",
    "    else :\n",
    "        break\n",
    "print(k)"
   ]
  },
  {
   "cell_type": "code",
   "execution_count": null,
   "metadata": {
    "collapsed": true
   },
   "outputs": [],
   "source": []
  }
 ],
 "metadata": {
  "kernelspec": {
   "display_name": "Python 3",
   "language": "python",
   "name": "python3"
  },
  "language_info": {
   "codemirror_mode": {
    "name": "ipython",
    "version": 3
   },
   "file_extension": ".py",
   "mimetype": "text/x-python",
   "name": "python",
   "nbconvert_exporter": "python",
   "pygments_lexer": "ipython3",
   "version": "3.6.3"
  }
 },
 "nbformat": 4,
 "nbformat_minor": 2
}
