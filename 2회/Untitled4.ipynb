{
 "cells": [
  {
   "cell_type": "code",
   "execution_count": 4,
   "metadata": {},
   "outputs": [
    {
     "name": "stdout",
     "output_type": "stream",
     "text": [
      "하나의 정수를 입력하세요 : 5\n",
      "홀수입니다\n",
      "프로그램 종료\n"
     ]
    }
   ],
   "source": [
    "x=int(input(\"하나의 정수를 입력하세요 : \"))\n",
    "if x%2==0:\n",
    "    print(\"짝수입니다\")\n",
    "else :\n",
    "    print(\"홀수입니다\")\n",
    "print(\"프로그램 종료\")"
   ]
  },
  {
   "cell_type": "code",
   "execution_count": null,
   "metadata": {
    "collapsed": true
   },
   "outputs": [],
   "source": [
    "score = int(input(\"성적을 입력하세요\"))\n",
    "if score >= 90:\n",
    "    print(\"A 입니다.\")\n",
    "        if score >=95:\n",
    "            print(\"장학금 대상자입니다\")\n",
    "elif score >= 80:\n",
    "    print(\"B 입니다.\")\n",
    "elif score >= 70:\n",
    "    print(\"C 입니다.\")\n",
    "elif score >= 60:\n",
    "    print(\"D 입니다.\")\n",
    "else :\n",
    "    print(\"F 입니다.\")"
   ]
  }
 ],
 "metadata": {
  "kernelspec": {
   "display_name": "Python 3",
   "language": "python",
   "name": "python3"
  },
  "language_info": {
   "codemirror_mode": {
    "name": "ipython",
    "version": 3
   },
   "file_extension": ".py",
   "mimetype": "text/x-python",
   "name": "python",
   "nbconvert_exporter": "python",
   "pygments_lexer": "ipython3",
   "version": "3.6.3"
  }
 },
 "nbformat": 4,
 "nbformat_minor": 2
}
