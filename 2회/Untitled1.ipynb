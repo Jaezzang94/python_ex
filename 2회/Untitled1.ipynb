{
 "cells": [
  {
   "cell_type": "code",
   "execution_count": null,
   "metadata": {
    "collapsed": true
   },
   "outputs": [],
   "source": [
    "num=int(input(\"다섯 자리 숫자를 입력하세요 : \"))\n",
    "print()\n",
    "while True:\n",
    "    num/10\n",
    "    if(num>1):\n",
    "        num=num%10\n",
    "        x.apppen(num)"
   ]
  },
  {
   "cell_type": "code",
   "execution_count": null,
   "metadata": {
    "collapsed": true
   },
   "outputs": [],
   "source": [
    "num=int(input(\"다섯 자리 숫자를 입력하세요 : \"))\n",
    "print()\n",
    "while True:\n",
    "    num=num/10\n",
    "    if(num>1):\n",
    "        num1=num%10\n",
    "        print(num1)\n",
    "    else : \n",
    "        break"
   ]
  },
  {
   "cell_type": "code",
   "execution_count": null,
   "metadata": {
    "collapsed": true
   },
   "outputs": [],
   "source": []
  }
 ],
 "metadata": {
  "kernelspec": {
   "display_name": "Python 3",
   "language": "python",
   "name": "python3"
  },
  "language_info": {
   "codemirror_mode": {
    "name": "ipython",
    "version": 3
   },
   "file_extension": ".py",
   "mimetype": "text/x-python",
   "name": "python",
   "nbconvert_exporter": "python",
   "pygments_lexer": "ipython3",
   "version": "3.6.3"
  }
 },
 "nbformat": 4,
 "nbformat_minor": 2
}
